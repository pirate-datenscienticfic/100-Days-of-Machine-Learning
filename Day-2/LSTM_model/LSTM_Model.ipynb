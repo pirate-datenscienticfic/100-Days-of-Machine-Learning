{
 "cells": [
  {
   "cell_type": "code",
   "execution_count": 1,
   "metadata": {},
   "outputs": [
    {
     "name": "stdout",
     "output_type": "stream",
     "text": [
      "Requirement already satisfied: tensorflow-datasets in c:\\users\\acer\\appdata\\local\\packages\\pythonsoftwarefoundation.python.3.9_qbz5n2kfra8p0\\localcache\\local-packages\\python39\\site-packages (4.4.0)\n",
      "Requirement already satisfied: attrs>=18.1.0 in c:\\users\\acer\\appdata\\local\\packages\\pythonsoftwarefoundation.python.3.9_qbz5n2kfra8p0\\localcache\\local-packages\\python39\\site-packages (from tensorflow-datasets) (21.2.0)\n",
      "Requirement already satisfied: six in c:\\users\\acer\\appdata\\local\\packages\\pythonsoftwarefoundation.python.3.9_qbz5n2kfra8p0\\localcache\\local-packages\\python39\\site-packages (from tensorflow-datasets) (1.16.0)\n",
      "Requirement already satisfied: absl-py in c:\\users\\acer\\appdata\\local\\packages\\pythonsoftwarefoundation.python.3.9_qbz5n2kfra8p0\\localcache\\local-packages\\python39\\site-packages (from tensorflow-datasets) (0.12.0)\n",
      "Requirement already satisfied: dill in c:\\users\\acer\\appdata\\local\\packages\\pythonsoftwarefoundation.python.3.9_qbz5n2kfra8p0\\localcache\\local-packages\\python39\\site-packages (from tensorflow-datasets) (0.3.1.1)\n",
      "Requirement already satisfied: promise in c:\\users\\acer\\appdata\\local\\packages\\pythonsoftwarefoundation.python.3.9_qbz5n2kfra8p0\\localcache\\local-packages\\python39\\site-packages (from tensorflow-datasets) (2.3)\n",
      "Requirement already satisfied: numpy in c:\\users\\acer\\appdata\\local\\packages\\pythonsoftwarefoundation.python.3.9_qbz5n2kfra8p0\\localcache\\local-packages\\python39\\site-packages (from tensorflow-datasets) (1.22.1)\n",
      "Requirement already satisfied: protobuf>=3.12.2 in c:\\users\\acer\\appdata\\local\\packages\\pythonsoftwarefoundation.python.3.9_qbz5n2kfra8p0\\localcache\\local-packages\\python39\\site-packages (from tensorflow-datasets) (3.19.1)\n",
      "Requirement already satisfied: requests>=2.19.0 in c:\\users\\acer\\appdata\\local\\packages\\pythonsoftwarefoundation.python.3.9_qbz5n2kfra8p0\\localcache\\local-packages\\python39\\site-packages (from tensorflow-datasets) (2.26.0)\n",
      "Requirement already satisfied: tensorflow-metadata in c:\\users\\acer\\appdata\\local\\packages\\pythonsoftwarefoundation.python.3.9_qbz5n2kfra8p0\\localcache\\local-packages\\python39\\site-packages (from tensorflow-datasets) (1.5.0)\n",
      "Requirement already satisfied: termcolor in c:\\users\\acer\\appdata\\local\\packages\\pythonsoftwarefoundation.python.3.9_qbz5n2kfra8p0\\localcache\\local-packages\\python39\\site-packages (from tensorflow-datasets) (1.1.0)\n",
      "Requirement already satisfied: tqdm in c:\\users\\acer\\appdata\\local\\packages\\pythonsoftwarefoundation.python.3.9_qbz5n2kfra8p0\\localcache\\local-packages\\python39\\site-packages (from tensorflow-datasets) (4.62.3)\n",
      "Requirement already satisfied: future in c:\\users\\acer\\appdata\\local\\packages\\pythonsoftwarefoundation.python.3.9_qbz5n2kfra8p0\\localcache\\local-packages\\python39\\site-packages (from tensorflow-datasets) (0.18.2)\n",
      "Requirement already satisfied: urllib3<1.27,>=1.21.1 in c:\\users\\acer\\appdata\\local\\packages\\pythonsoftwarefoundation.python.3.9_qbz5n2kfra8p0\\localcache\\local-packages\\python39\\site-packages (from requests>=2.19.0->tensorflow-datasets) (1.26.7)\n",
      "Requirement already satisfied: certifi>=2017.4.17 in c:\\users\\acer\\appdata\\local\\packages\\pythonsoftwarefoundation.python.3.9_qbz5n2kfra8p0\\localcache\\local-packages\\python39\\site-packages (from requests>=2.19.0->tensorflow-datasets) (2021.10.8)\n",
      "Requirement already satisfied: idna<4,>=2.5 in c:\\users\\acer\\appdata\\local\\packages\\pythonsoftwarefoundation.python.3.9_qbz5n2kfra8p0\\localcache\\local-packages\\python39\\site-packages (from requests>=2.19.0->tensorflow-datasets) (3.3)\n",
      "Requirement already satisfied: charset-normalizer~=2.0.0 in c:\\users\\acer\\appdata\\local\\packages\\pythonsoftwarefoundation.python.3.9_qbz5n2kfra8p0\\localcache\\local-packages\\python39\\site-packages (from requests>=2.19.0->tensorflow-datasets) (2.0.9)\n",
      "Requirement already satisfied: googleapis-common-protos<2,>=1.52.0 in c:\\users\\acer\\appdata\\local\\packages\\pythonsoftwarefoundation.python.3.9_qbz5n2kfra8p0\\localcache\\local-packages\\python39\\site-packages (from tensorflow-metadata->tensorflow-datasets) (1.54.0)\n",
      "Requirement already satisfied: colorama in c:\\users\\acer\\appdata\\local\\packages\\pythonsoftwarefoundation.python.3.9_qbz5n2kfra8p0\\localcache\\local-packages\\python39\\site-packages (from tqdm->tensorflow-datasets) (0.4.4)\n"
     ]
    }
   ],
   "source": [
    "!pip install tensorflow-datasets"
   ]
  },
  {
   "cell_type": "code",
   "execution_count": 1,
   "metadata": {},
   "outputs": [
    {
     "name": "stderr",
     "output_type": "stream",
     "text": [
      "C:\\Users\\Acer\\AppData\\Local\\Programs\\Python\\Python39\\lib\\site-packages\\numpy\\_distributor_init.py:30: UserWarning: loaded more than 1 DLL from .libs:\n",
      "C:\\Users\\Acer\\AppData\\Local\\Programs\\Python\\Python39\\lib\\site-packages\\numpy\\.libs\\libopenblas.EL2C6PLE4ZYW3ECEVIV3OXXGRN2NRFM2.gfortran-win_amd64.dll\n",
      "C:\\Users\\Acer\\AppData\\Local\\Programs\\Python\\Python39\\lib\\site-packages\\numpy\\.libs\\libopenblas.WCDJNK7YVMPZQ2ME2ZZHJJRJ3JIKNDB7.gfortran-win_amd64.dll\n",
      "  warnings.warn(\"loaded more than 1 DLL from .libs:\"\n"
     ]
    }
   ],
   "source": [
    "import numpy as np\n",
    "\n",
    "import tensorflow_datasets as tfds\n",
    "import tensorflow as tf\n",
    "\n",
    "tfds.disable_progress_bar()\n",
    "\n",
    "import matplotlib.pyplot as plt"
   ]
  },
  {
   "cell_type": "markdown",
   "metadata": {},
   "source": [
    "### Graphs"
   ]
  },
  {
   "cell_type": "code",
   "execution_count": 2,
   "metadata": {},
   "outputs": [],
   "source": [
    "## Helper function to display metric graphs\n",
    "def plot_graphs(history, metric):\n",
    "    plt.plot(history.history[metric])\n",
    "    plt.plot(history.history['val_'+metric], '')\n",
    "    plt.xlabel(\"Epochs\")\n",
    "    plt.ylabel(metric)\n",
    "    plt.legend([metric, 'val_'+metric])\n",
    "\n"
   ]
  },
  {
   "cell_type": "markdown",
   "metadata": {},
   "source": [
    "### Input Pipeline"
   ]
  },
  {
   "cell_type": "code",
   "execution_count": 3,
   "metadata": {},
   "outputs": [
    {
     "name": "stdout",
     "output_type": "stream",
     "text": [
      "(TensorSpec(shape=(), dtype=tf.string, name=None), TensorSpec(shape=(), dtype=tf.int64, name=None))\n",
      "text:  b\"This was an absolutely terrible movie. Don't be lured in by Christopher Walken or Michael Ironside. Both are great actors, but this must simply be their worst role in history. Even their great acting could not redeem this movie's ridiculous storyline. This movie is an early nineties US propaganda piece. The most pathetic scenes were those when the Columbian rebels were making their cases for revolutions. Maria Conchita Alonso appeared phony, and her pseudo-love affair with Walken was nothing but a pathetic emotional plug in a movie that was devoid of any real meaning. I am disappointed that there are movies like this, ruining actor's like Christopher Walken's good name. I could barely sit through it.\"\n",
      "label:  0\n"
     ]
    }
   ],
   "source": [
    "dataset, info = tfds.load('imdb_reviews', with_info=True, as_supervised=True)\n",
    "train_dataset, test_dataset = dataset['train'], dataset['test']\n",
    "\n",
    "print(train_dataset.element_spec)\n",
    "\n",
    "for example, label in train_dataset.take(1):\n",
    "    print(\"text: \", example.numpy())\n",
    "    print(\"label: \", label.numpy())"
   ]
  },
  {
   "cell_type": "code",
   "execution_count": 4,
   "metadata": {},
   "outputs": [],
   "source": [
    "BUFFER_SIZE = 1000\n",
    "BATCH_SIZE = 64"
   ]
  },
  {
   "cell_type": "code",
   "execution_count": 5,
   "metadata": {},
   "outputs": [],
   "source": [
    "train_dataset = train_dataset.shuffle(BUFFER_SIZE).batch(BATCH_SIZE).prefetch(tf.data.AUTOTUNE)\n",
    "test_dataset = test_dataset.batch(BATCH_SIZE).prefetch(tf.data.AUTOTUNE)"
   ]
  },
  {
   "cell_type": "code",
   "execution_count": 6,
   "metadata": {},
   "outputs": [
    {
     "name": "stdout",
     "output_type": "stream",
     "text": [
      "text:  [b'This should have been a movie about Sam and his wife, the glorious Peter Falk and equally glorious Olympia Dukakis. That would have been a movie worth seeing. Instead it\\'s a Paul Reiser vehicle, with a little Falk thrown in. The wonderful Elizabeth Perkins is also in this movie, but you\\'d hardly know it. I presume Reiser is under the impression that he\\'s a giant movie star who needs an appropriate vehicle. He\\'s not. Even more galling is that Reiser took the trouble to hire some of the best women character actresses on the screen today and then shoved them all into his background. Dukakis does not show up until the last 15 minutes, but when she does, the screen glows. The story is about Falk and Dukakis really, but we\\'re subjected to a pointless, silly, preposterous road trip in which Reiser gets to show how very cute, precious and oh-so-deep with psychological insight (wrong!) he can be. For instance, In a restaurant scene that I imagine Reiser had hoped was \"Cassavetes-like\" there\\'s a laughably false confrontation between Reiser and Falk that is so patently ridiculous, I was embarrassed for Falk.'\n",
      " b\"I first saw this as a child living in East London. The scars of Hitlers Luftwaffe were all too evident and the landscape of the movie was reminiscent of our street. I remember having nightmares after seeing it. The odd thing is, it really hasn't dated if viewed as a piece of social history in Cinema fiction. <br /><br />Apart from a globally destructive war, the scale of the machines was badly awry, more Nano-Technology now, but overall, an excellent and well-crafted work. It was interesting to see how space travel was perceived back then. I would think that firing a spacecraft from a gigantic gun would almost certainly kill the astronauts. However, much was right. Mans desire for war, mans inhumanity to man. The means of war as a catalyst for development. <br /><br />\"\n",
      " b\"Just saw the World Preem of Fido at the Toronto International Film Festival and thoroughly enjoyed it. Here we have a welcome reworking of a genre widely thought to have been pioneered (certainly 'fleshed out' extensively and successfully) by George Romero. But this is a Canadian film by a Canadian Director and it's a Comedy! And, YES, I actually think it is better than 'Shawn of the Dead'. Thoroughly believable and, perhaps even more importantly, enjoyable performances by Dylan Baker, Carrie-Anne Moss and young actor K'Sun Ray, whom I suspect we'll be seeing a lot more of in future features. However, I must confess that I most enjoyed the delicious turn by Tim Blake Nelson as neighbour Mr. Theopolis, essentially playing a willing animated version of Victor Van Dort from the Corpse Bride (or, for those who've seen the film, wouldn't that read even better here as the Corpse Pride?) and, of course, Scotch actor Billy Connolly in his least animated, yet somehow deeply moving role as the titular character. Just think, he would not have gotten this role had it not been for Peter Stormare's commitments to Prison Break (as was revealed in the Q&A following Thursday night's screening). I can't help but speculate that the Screenwriters must have drawn a lot of inspiration from Day Of The Dead's Zombie 'Bub'.I am not keen on ever revealing plot details during a Comment and I won't start now. Suffice it to say that Fido is NOT one of those dour, graphically gory Zombie films you can rely on from Romero. Rather it is a film that will have you constantly chuckling and, although (and I did have to think back carefully to be sure) there is a fair dose of blood-letting and violence, the delectable humour, so well enhanced by the surreal milieu created by Director Currie and his co-screenwriters, goes a long way towards making this seem like a feature that ought to be rated PG-13. I urge you to go see this little Canuck gem. I'll certainly be buying the DVD once it emerges hopefully by next Summer.\"]\n",
      "\n",
      "labels:  [0 1 1]\n"
     ]
    }
   ],
   "source": [
    "for example, label in train_dataset.take(1):\n",
    "    print(\"text: \", example.numpy()[: 3])\n",
    "    print()\n",
    "    print(\"labels: \", label.numpy()[: 3])"
   ]
  },
  {
   "cell_type": "markdown",
   "metadata": {},
   "source": [
    "### Create the text encoder"
   ]
  },
  {
   "cell_type": "code",
   "execution_count": 7,
   "metadata": {},
   "outputs": [],
   "source": [
    "VOCAB_SIZE = 1000\n",
    "encoder = tf.keras.layers.experimental.preprocessing.TextVectorization(max_tokens=VOCAB_SIZE)\n",
    "encoder.adapt(train_dataset.map(lambda text, label: text))"
   ]
  },
  {
   "cell_type": "code",
   "execution_count": 8,
   "metadata": {},
   "outputs": [
    {
     "data": {
      "text/plain": [
       "array(['', '[UNK]', 'the', 'and', 'a', 'of', 'to', 'is', 'in', 'it', 'i',\n",
       "       'this', 'that', 'br', 'was', 'as', 'for', 'with', 'movie', 'but'],\n",
       "      dtype='<U14')"
      ]
     },
     "execution_count": 8,
     "metadata": {},
     "output_type": "execute_result"
    }
   ],
   "source": [
    "vocab = np.array(encoder.get_vocabulary())\n",
    "vocab[: 20]"
   ]
  },
  {
   "cell_type": "code",
   "execution_count": 9,
   "metadata": {},
   "outputs": [
    {
     "data": {
      "text/plain": [
       "array([[ 11, 139,  26, ...,   0,   0,   0],\n",
       "       [ 10,  86, 208, ...,   0,   0,   0],\n",
       "       [ 41, 208,   2, ...,   0,   0,   0]], dtype=int64)"
      ]
     },
     "execution_count": 9,
     "metadata": {},
     "output_type": "execute_result"
    }
   ],
   "source": [
    "encoded_example = encoder(example)[: 3].numpy()\n",
    "encoded_example"
   ]
  },
  {
   "cell_type": "markdown",
   "metadata": {},
   "source": [
    "### Model"
   ]
  },
  {
   "cell_type": "code",
   "execution_count": 10,
   "metadata": {},
   "outputs": [],
   "source": [
    "model = tf.keras.Sequential([\n",
    "    encoder,\n",
    "    tf.keras.layers.Embedding(\n",
    "        input_dim = len(encoder.get_vocabulary()),\n",
    "        output_dim = 64,\n",
    "        mask_zero = True\n",
    "    ),\n",
    "    tf.keras.layers.Bidirectional(tf.keras.layers.LSTM(64)),\n",
    "    tf.keras.layers.Dense(64, activation='relu'),\n",
    "    tf.keras.layers.Dense(1)\n",
    "])"
   ]
  },
  {
   "cell_type": "code",
   "execution_count": 11,
   "metadata": {},
   "outputs": [],
   "source": [
    "model.compile(loss=tf.keras.losses.BinaryCrossentropy(from_logits=True),\n",
    "              optimizer=tf.keras.optimizers.Adam(1e-4),\n",
    "              metrics=['accuracy'])"
   ]
  },
  {
   "cell_type": "markdown",
   "metadata": {},
   "source": [
    "### Train the model"
   ]
  },
  {
   "cell_type": "code",
   "execution_count": 12,
   "metadata": {},
   "outputs": [
    {
     "name": "stdout",
     "output_type": "stream",
     "text": [
      "[PhysicalDevice(name='/physical_device:GPU:0', device_type='GPU')]\n"
     ]
    },
    {
     "ename": "RuntimeError",
     "evalue": "Physical devices cannot be modified after being initialized",
     "output_type": "error",
     "traceback": [
      "\u001b[1;31m---------------------------------------------------------------------------\u001b[0m",
      "\u001b[1;31mRuntimeError\u001b[0m                              Traceback (most recent call last)",
      "\u001b[1;32mg:\\Assignments\\100DaysofML\\100-Days-of-Machine-Learning\\Streamlit-Deployment\\LSTM_model\\LSTM_Model.ipynb Cell 18'\u001b[0m in \u001b[0;36m<module>\u001b[1;34m\u001b[0m\n\u001b[0;32m      <a href='vscode-notebook-cell:/g%3A/Assignments/100DaysofML/100-Days-of-Machine-Learning/Streamlit-Deployment/LSTM_model/LSTM_Model.ipynb#ch0000017?line=4'>5</a>\u001b[0m physical_devices \u001b[39m=\u001b[39m tf\u001b[39m.\u001b[39mconfig\u001b[39m.\u001b[39mlist_physical_devices(\u001b[39m\"\u001b[39m\u001b[39mGPU\u001b[39m\u001b[39m\"\u001b[39m)\n\u001b[0;32m      <a href='vscode-notebook-cell:/g%3A/Assignments/100DaysofML/100-Days-of-Machine-Learning/Streamlit-Deployment/LSTM_model/LSTM_Model.ipynb#ch0000017?line=5'>6</a>\u001b[0m \u001b[39mprint\u001b[39m(physical_devices)\n\u001b[1;32m----> <a href='vscode-notebook-cell:/g%3A/Assignments/100DaysofML/100-Days-of-Machine-Learning/Streamlit-Deployment/LSTM_model/LSTM_Model.ipynb#ch0000017?line=6'>7</a>\u001b[0m tf\u001b[39m.\u001b[39;49mconfig\u001b[39m.\u001b[39;49mexperimental\u001b[39m.\u001b[39;49mset_memory_growth(physical_devices[\u001b[39m0\u001b[39;49m], \u001b[39mTrue\u001b[39;49;00m)\n",
      "File \u001b[1;32m~\\AppData\\Local\\Programs\\Python\\Python39\\lib\\site-packages\\tensorflow\\python\\framework\\config.py:716\u001b[0m, in \u001b[0;36mset_memory_growth\u001b[1;34m(device, enable)\u001b[0m\n\u001b[0;32m    <a href='file:///~/AppData/Local/Programs/Python/Python39/lib/site-packages/tensorflow/python/framework/config.py?line=690'>691</a>\u001b[0m \u001b[39m@tf_export\u001b[39m(\u001b[39m'\u001b[39m\u001b[39mconfig.experimental.set_memory_growth\u001b[39m\u001b[39m'\u001b[39m)\n\u001b[0;32m    <a href='file:///~/AppData/Local/Programs/Python/Python39/lib/site-packages/tensorflow/python/framework/config.py?line=691'>692</a>\u001b[0m \u001b[39mdef\u001b[39;00m \u001b[39mset_memory_growth\u001b[39m(device, enable):\n\u001b[0;32m    <a href='file:///~/AppData/Local/Programs/Python/Python39/lib/site-packages/tensorflow/python/framework/config.py?line=692'>693</a>\u001b[0m   \u001b[39m\"\"\"Set if memory growth should be enabled for a `PhysicalDevice`.\u001b[39;00m\n\u001b[0;32m    <a href='file:///~/AppData/Local/Programs/Python/Python39/lib/site-packages/tensorflow/python/framework/config.py?line=693'>694</a>\u001b[0m \n\u001b[0;32m    <a href='file:///~/AppData/Local/Programs/Python/Python39/lib/site-packages/tensorflow/python/framework/config.py?line=694'>695</a>\u001b[0m \u001b[39m  If memory growth is enabled for a `PhysicalDevice`, the runtime initialization\u001b[39;00m\n\u001b[1;32m   (...)\u001b[0m\n\u001b[0;32m    <a href='file:///~/AppData/Local/Programs/Python/Python39/lib/site-packages/tensorflow/python/framework/config.py?line=713'>714</a>\u001b[0m \u001b[39m    RuntimeError: Runtime is already initialized.\u001b[39;00m\n\u001b[0;32m    <a href='file:///~/AppData/Local/Programs/Python/Python39/lib/site-packages/tensorflow/python/framework/config.py?line=714'>715</a>\u001b[0m \u001b[39m  \"\"\"\u001b[39;00m\n\u001b[1;32m--> <a href='file:///~/AppData/Local/Programs/Python/Python39/lib/site-packages/tensorflow/python/framework/config.py?line=715'>716</a>\u001b[0m   context\u001b[39m.\u001b[39;49mcontext()\u001b[39m.\u001b[39;49mset_memory_growth(device, enable)\n",
      "File \u001b[1;32m~\\AppData\\Local\\Programs\\Python\\Python39\\lib\\site-packages\\tensorflow\\python\\eager\\context.py:1559\u001b[0m, in \u001b[0;36mContext.set_memory_growth\u001b[1;34m(self, dev, enable)\u001b[0m\n\u001b[0;32m   <a href='file:///~/AppData/Local/Programs/Python/Python39/lib/site-packages/tensorflow/python/eager/context.py?line=1555'>1556</a>\u001b[0m   \u001b[39mreturn\u001b[39;00m\n\u001b[0;32m   <a href='file:///~/AppData/Local/Programs/Python/Python39/lib/site-packages/tensorflow/python/eager/context.py?line=1557'>1558</a>\u001b[0m \u001b[39mif\u001b[39;00m \u001b[39mself\u001b[39m\u001b[39m.\u001b[39m_context_handle \u001b[39mis\u001b[39;00m \u001b[39mnot\u001b[39;00m \u001b[39mNone\u001b[39;00m:\n\u001b[1;32m-> <a href='file:///~/AppData/Local/Programs/Python/Python39/lib/site-packages/tensorflow/python/eager/context.py?line=1558'>1559</a>\u001b[0m   \u001b[39mraise\u001b[39;00m \u001b[39mRuntimeError\u001b[39;00m(\n\u001b[0;32m   <a href='file:///~/AppData/Local/Programs/Python/Python39/lib/site-packages/tensorflow/python/eager/context.py?line=1559'>1560</a>\u001b[0m       \u001b[39m\"\u001b[39m\u001b[39mPhysical devices cannot be modified after being initialized\u001b[39m\u001b[39m\"\u001b[39m)\n\u001b[0;32m   <a href='file:///~/AppData/Local/Programs/Python/Python39/lib/site-packages/tensorflow/python/eager/context.py?line=1561'>1562</a>\u001b[0m \u001b[39mself\u001b[39m\u001b[39m.\u001b[39m_memory_growth_map[dev] \u001b[39m=\u001b[39m enable\n",
      "\u001b[1;31mRuntimeError\u001b[0m: Physical devices cannot be modified after being initialized"
     ]
    }
   ],
   "source": [
    "import os\n",
    "os.environ[\"TF_FORCE_GPU_ALLOW_GROWTH\"] = \"true\"\n",
    "TF_FORCE_GPU_ALLOW_GROWTH = 1\n",
    "\n",
    "physical_devices = tf.config.list_physical_devices(\"GPU\")\n",
    "print(physical_devices)\n",
    "tf.config.experimental.set_memory_growth(physical_devices[0], True)"
   ]
  },
  {
   "cell_type": "code",
   "execution_count": null,
   "metadata": {},
   "outputs": [
    {
     "name": "stdout",
     "output_type": "stream",
     "text": [
      "2.7.0\n"
     ]
    }
   ],
   "source": [
    "print(tf.__version__)"
   ]
  },
  {
   "cell_type": "code",
   "execution_count": 13,
   "metadata": {},
   "outputs": [
    {
     "ename": "AttributeError",
     "evalue": "gpu",
     "output_type": "error",
     "traceback": [
      "\u001b[1;31m---------------------------------------------------------------------------\u001b[0m",
      "\u001b[1;31mAttributeError\u001b[0m                            Traceback (most recent call last)",
      "\u001b[1;32mg:\\Assignments\\100DaysofML\\100-Days-of-Machine-Learning\\Streamlit-Deployment\\LSTM_model\\LSTM_Model.ipynb Cell 20'\u001b[0m in \u001b[0;36m<module>\u001b[1;34m\u001b[0m\n\u001b[0;32m      <a href='vscode-notebook-cell:/g%3A/Assignments/100DaysofML/100-Days-of-Machine-Learning/Streamlit-Deployment/LSTM_model/LSTM_Model.ipynb#ch0000019?line=1'>2</a>\u001b[0m \u001b[39mfrom\u001b[39;00m \u001b[39mtensorflow\u001b[39;00m\u001b[39m.\u001b[39;00m\u001b[39mcompat\u001b[39;00m\u001b[39m.\u001b[39;00m\u001b[39mv1\u001b[39;00m \u001b[39mimport\u001b[39;00m InteractiveSession\n\u001b[0;32m      <a href='vscode-notebook-cell:/g%3A/Assignments/100DaysofML/100-Days-of-Machine-Learning/Streamlit-Deployment/LSTM_model/LSTM_Model.ipynb#ch0000019?line=3'>4</a>\u001b[0m config \u001b[39m=\u001b[39m ConfigProto()\n\u001b[1;32m----> <a href='vscode-notebook-cell:/g%3A/Assignments/100DaysofML/100-Days-of-Machine-Learning/Streamlit-Deployment/LSTM_model/LSTM_Model.ipynb#ch0000019?line=4'>5</a>\u001b[0m config\u001b[39m.\u001b[39;49mgpu\u001b[39m.\u001b[39moptions\u001b[39m.\u001b[39mallow_growth \u001b[39m=\u001b[39m \u001b[39mTrue\u001b[39;00m\n\u001b[0;32m      <a href='vscode-notebook-cell:/g%3A/Assignments/100DaysofML/100-Days-of-Machine-Learning/Streamlit-Deployment/LSTM_model/LSTM_Model.ipynb#ch0000019?line=5'>6</a>\u001b[0m session \u001b[39m=\u001b[39m InteractiveSession(config\u001b[39m=\u001b[39mconfig)\n",
      "\u001b[1;31mAttributeError\u001b[0m: gpu"
     ]
    }
   ],
   "source": [
    "from tensorflow.compat.v1 import ConfigProto\n",
    "from tensorflow.compat.v1 import InteractiveSession\n",
    "\n",
    "config = ConfigProto()\n",
    "config.gpu.options.allow_growth = True\n",
    "session = InteractiveSession(config=config) "
   ]
  },
  {
   "cell_type": "code",
   "execution_count": 14,
   "metadata": {},
   "outputs": [
    {
     "name": "stdout",
     "output_type": "stream",
     "text": [
      "Epoch 1/10\n",
      "391/391 [==============================] - 61s 126ms/step - loss: 0.6370 - accuracy: 0.5674 - val_loss: 0.4767 - val_accuracy: 0.7578\n",
      "Epoch 2/10\n",
      "391/391 [==============================] - 47s 119ms/step - loss: 0.4173 - accuracy: 0.8089 - val_loss: 0.3803 - val_accuracy: 0.8344\n",
      "Epoch 3/10\n",
      "391/391 [==============================] - 47s 119ms/step - loss: 0.3568 - accuracy: 0.8436 - val_loss: 0.3540 - val_accuracy: 0.8401\n",
      "Epoch 4/10\n",
      "391/391 [==============================] - 46s 117ms/step - loss: 0.3324 - accuracy: 0.8560 - val_loss: 0.3350 - val_accuracy: 0.8542\n",
      "Epoch 5/10\n",
      "391/391 [==============================] - 46s 117ms/step - loss: 0.3194 - accuracy: 0.8636 - val_loss: 0.3322 - val_accuracy: 0.8557\n",
      "Epoch 6/10\n",
      "391/391 [==============================] - 48s 122ms/step - loss: 0.3130 - accuracy: 0.8663 - val_loss: 0.3284 - val_accuracy: 0.8604\n",
      "Epoch 7/10\n",
      "391/391 [==============================] - 61s 157ms/step - loss: 0.3082 - accuracy: 0.8686 - val_loss: 0.3447 - val_accuracy: 0.8568\n",
      "Epoch 8/10\n",
      "391/391 [==============================] - 63s 160ms/step - loss: 0.3038 - accuracy: 0.8688 - val_loss: 0.3275 - val_accuracy: 0.8578\n",
      "Epoch 9/10\n",
      "391/391 [==============================] - 61s 155ms/step - loss: 0.3039 - accuracy: 0.8692 - val_loss: 0.3244 - val_accuracy: 0.8604\n",
      "Epoch 10/10\n",
      "391/391 [==============================] - 60s 153ms/step - loss: 0.3039 - accuracy: 0.8708 - val_loss: 0.3223 - val_accuracy: 0.8516\n"
     ]
    }
   ],
   "source": [
    "history = model.fit(train_dataset, epochs=10,\n",
    "                    validation_data=test_dataset,\n",
    "                    validation_steps=30)"
   ]
  },
  {
   "cell_type": "code",
   "execution_count": 15,
   "metadata": {},
   "outputs": [
    {
     "name": "stdout",
     "output_type": "stream",
     "text": [
      "Model: \"sequential\"\n",
      "_________________________________________________________________\n",
      " Layer (type)                Output Shape              Param #   \n",
      "=================================================================\n",
      " text_vectorization (TextVec  (None, None)             0         \n",
      " torization)                                                     \n",
      "                                                                 \n",
      " embedding (Embedding)       (None, None, 64)          64000     \n",
      "                                                                 \n",
      " bidirectional (Bidirectiona  (None, 128)              66048     \n",
      " l)                                                              \n",
      "                                                                 \n",
      " dense (Dense)               (None, 64)                8256      \n",
      "                                                                 \n",
      " dense_1 (Dense)             (None, 1)                 65        \n",
      "                                                                 \n",
      "=================================================================\n",
      "Total params: 138,369\n",
      "Trainable params: 138,369\n",
      "Non-trainable params: 0\n",
      "_________________________________________________________________\n"
     ]
    }
   ],
   "source": [
    "model.summary()"
   ]
  },
  {
   "cell_type": "code",
   "execution_count": 16,
   "metadata": {},
   "outputs": [
    {
     "name": "stdout",
     "output_type": "stream",
     "text": [
      "391/391 [==============================] - 18s 45ms/step - loss: 0.3188 - accuracy: 0.8537\n",
      "Test Loss:  0.3188070058822632\n",
      "Test Accuracy:  0.8536800146102905\n"
     ]
    }
   ],
   "source": [
    "test_loss, test_acc = model.evaluate(test_dataset)\n",
    "\n",
    "print(\"Test Loss: \", test_loss)\n",
    "print(\"Test Accuracy: \", test_acc)"
   ]
  },
  {
   "cell_type": "code",
   "execution_count": 18,
   "metadata": {},
   "outputs": [
    {
     "data": {
      "text/plain": [
       "(0.0, 0.6536312326788902)"
      ]
     },
     "execution_count": 18,
     "metadata": {},
     "output_type": "execute_result"
    },
    {
     "data": {
      "image/png": "[encoded data removed]",
      "text/plain": [
       "<Figure size 1152x648 with 2 Axes>"
      ]
     },
     "metadata": {
      "needs_background": "light"
     },
     "output_type": "display_data"
    }
   ],
   "source": [
    "plt.figure(figsize=(16, 9))\n",
    "plt.subplot(1, 2, 1)\n",
    "plot_graphs(history, \"accuracy\")\n",
    "plt.ylim(None, 1)\n",
    "plt.subplot(1, 2, 2)\n",
    "plot_graphs(history, \"loss\")\n",
    "plt.ylim(0, None)"
   ]
  },
  {
   "cell_type": "markdown",
   "metadata": {},
   "source": [
    "### Prediction"
   ]
  },
  {
   "cell_type": "code",
   "execution_count": 26,
   "metadata": {},
   "outputs": [
    {
     "data": {
      "text/plain": [
       "array([[1.9648496]], dtype=float32)"
      ]
     },
     "execution_count": 26,
     "metadata": {},
     "output_type": "execute_result"
    }
   ],
   "source": [
    "sample_text = (r\"Because of the laboriousness of the translation process, since the 1940s efforts have been made, with varying degrees of success, to automate translation or \\\n",
    "               to mechanically aid the human translator. More recently, the rise of the Internet has fostered a world-wide market for translation services and has facilitated \\\n",
    "                'language localization'. Ideally, the translator must know both languages, as well as the subject that is to be translated.\")\n",
    "\n",
    "predictions = model.predict(np.array([sample_text]))\n",
    "predictions"
   ]
  },
  {
   "cell_type": "code",
   "execution_count": 27,
   "metadata": {},
   "outputs": [
    {
     "data": {
      "text/plain": [
       "array([[-1.5245659]], dtype=float32)"
      ]
     },
     "execution_count": 27,
     "metadata": {},
     "output_type": "execute_result"
    }
   ],
   "source": [
    "sample_text2 = (\"Movies was not inspiring, it shows and content were not upto the marks or not creativity in it. So donot watch this movie it's time waste.\")\n",
    "\n",
    "preds2 = model.predict(np.array([sample_text2]))\n",
    "preds2"
   ]
  },
  {
   "cell_type": "code",
   "execution_count": 28,
   "metadata": {},
   "outputs": [
    {
     "name": "stdout",
     "output_type": "stream",
     "text": [
      "Positive\n"
     ]
    }
   ],
   "source": [
    "if(predictions>0.0):\n",
    "    print(\"Positive\")\n",
    "else:\n",
    "    print(\"Negative\")"
   ]
  },
  {
   "cell_type": "code",
   "execution_count": 31,
   "metadata": {},
   "outputs": [],
   "source": [
    "## Model Deployement\n",
    "\n",
    "model_json = model.to_json()\n",
    "with open('model.json', 'w') as js:\n",
    "    js.write(model_json)\n",
    "model.save_weights('model', save_format='tf')"
   ]
  },
  {
   "cell_type": "code",
   "execution_count": null,
   "metadata": {},
   "outputs": [],
   "source": []
  }
 ],
 "metadata": {
  "interpreter": {
   "hash": "f9a665eed82786d1db64405b5cfd0f8037f4571b806793cb1072a84e044fc7ff"
  },
  "kernelspec": {
   "display_name": "Python 3 (ipykernel)",
   "language": "python",
   "name": "python3"
  },
  "language_info": {
   "codemirror_mode": {
    "name": "ipython",
    "version": 3
   },
   "file_extension": ".py",
   "mimetype": "text/x-python",
   "name": "python",
   "nbconvert_exporter": "python",
   "pygments_lexer": "ipython3",
   "version": "3.9.6"
  }
 },
 "nbformat": 4,
 "nbformat_minor": 2
}
